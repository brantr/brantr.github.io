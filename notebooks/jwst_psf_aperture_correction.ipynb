{
 "cells": [
  {
   "cell_type": "code",
   "execution_count": null,
   "metadata": {
    "collapsed": false
   },
   "outputs": [],
   "source": [
    "%matplotlib inline\n",
    "import numpy as np\n",
    "import matplotlib.pyplot as plt\n",
    "from astropy.io import fits\n"
   ]
  },
  {
   "cell_type": "code",
   "execution_count": null,
   "metadata": {
    "collapsed": false,
    "scrolled": false
   },
   "outputs": [],
   "source": [
    "fname = \"F090W_flat_1024_1_webbpsf.fits\"\n",
    "hdulist = fits.open(fname)\n",
    "#print(hdulist[0].header)\n",
    "pixel_scale = hdulist[0].header['PIXELSCL']\n",
    "print pixel_scale"
   ]
  },
  {
   "cell_type": "code",
   "execution_count": null,
   "metadata": {
    "collapsed": false
   },
   "outputs": [],
   "source": [
    "data = hdulist[0].data\n",
    "plt.imshow(np.log10(data))"
   ]
  },
  {
   "cell_type": "code",
   "execution_count": null,
   "metadata": {
    "collapsed": false
   },
   "outputs": [],
   "source": [
    "pixel_range = 512.*np.sqrt(2)\n",
    "angle_range = pixel_range*pixel_scale\n",
    "\n",
    "npix  = 1000\n",
    "pixel = 10**( np.log10(pixel_range)*np.arange(npix)/float(npix-1) )\n",
    "angle = pixel * pixel_scale\n",
    "\n",
    "idx_max = np.where(data[:,:] == data[:,:].max())\n",
    "print idx_max[0], idx_max[1]\n",
    "print data.max()\n",
    "print data[idx_max[0],idx_max[1]]\n",
    "\n",
    "\n",
    "image_sum = np.sum(data)\n",
    "print image_sum"
   ]
  },
  {
   "cell_type": "code",
   "execution_count": null,
   "metadata": {
    "collapsed": false
   },
   "outputs": [],
   "source": [
    "nx = hdulist[0].header['NAXIS1']\n",
    "ny = hdulist[0].header['NAXIS2']\n",
    "\n",
    "i = np.arange(nx)\n",
    "j = np.arange(ny)\n",
    "\n",
    "ix, jy = np.meshgrid(i,j)\n",
    "\n",
    "print ix[:,1]\n",
    "print jy[:,1]"
   ]
  },
  {
   "cell_type": "code",
   "execution_count": null,
   "metadata": {
    "collapsed": true
   },
   "outputs": [],
   "source": [
    "flux = np.zeros(npix)\n",
    "for ii in range(npix):\n",
    "    fi = np.where( np.sqrt( (ix-idx_max[0])**2 + (jy-idx_max[1])**2 )<pixel[ii])\n",
    "    flux[ii] = np.sum(data[fi])"
   ]
  },
  {
   "cell_type": "code",
   "execution_count": null,
   "metadata": {
    "collapsed": false,
    "scrolled": false
   },
   "outputs": [],
   "source": [
    "plt.plot(pixel,-2.5*np.log10(flux))\n",
    "plt.xscale('log')\n",
    "plt.yscale('log')\n",
    "plt.ylim([1.0e-2,10])"
   ]
  },
  {
   "cell_type": "code",
   "execution_count": null,
   "metadata": {
    "collapsed": false
   },
   "outputs": [],
   "source": [
    "plt.plot(angle,-2.5*np.log10(flux))\n",
    "plt.xscale('log')\n",
    "plt.yscale('log')\n",
    "plt.ylim([1.0e-2,10])\n",
    "plt.xlim([0.03,10])\n",
    "plt.xlabel(r\"$Aperture\\,[\\mathrm{arcsec}]$\")\n",
    "plt.xticks(fontname=\"Times New Roman\")\n",
    "plt.yticks(fontname=\"Times New Roman\")\n",
    "plt.ylabel(r\"$Correction\\,[\\mathrm{mag}]$\")\n",
    "plt.axes().set_aspect('0.75')\n",
    "plt.text(3,3,'F090W',fontname=\"Times New Roman\",fontsize=12)\n",
    "plt.savefig(\"F090W_aperture_correction.png\",bbox_inches=\"tight\")"
   ]
  },
  {
   "cell_type": "code",
   "execution_count": null,
   "metadata": {
    "collapsed": true
   },
   "outputs": [],
   "source": []
  }
 ],
 "metadata": {
  "kernelspec": {
   "display_name": "Python 2",
   "language": "python",
   "name": "python2"
  },
  "language_info": {
   "codemirror_mode": {
    "name": "ipython",
    "version": 2
   },
   "file_extension": ".py",
   "mimetype": "text/x-python",
   "name": "python",
   "nbconvert_exporter": "python",
   "pygments_lexer": "ipython2",
   "version": "2.7.10"
  }
 },
 "nbformat": 4,
 "nbformat_minor": 0
}
