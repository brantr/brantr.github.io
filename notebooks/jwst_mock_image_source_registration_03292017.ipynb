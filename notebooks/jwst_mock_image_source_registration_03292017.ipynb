{
 "cells": [
  {
   "cell_type": "code",
   "execution_count": 6,
   "metadata": {
    "collapsed": false
   },
   "outputs": [],
   "source": [
    "%matplotlib inline\n",
    "import numpy as np\n",
    "import matplotlib.pyplot as plt\n",
    "from astropy.io import fits\n",
    "from array_io import *\n",
    "from astropy import wcs\n"
   ]
  },
  {
   "cell_type": "code",
   "execution_count": 26,
   "metadata": {
    "collapsed": false,
    "scrolled": false
   },
   "outputs": [
    {
     "name": "stdout",
     "output_type": "stream",
     "text": [
      "SIMPLE  =                    T / conforms to FITS standard                      BITPIX  =                  -64 / array data type                                NAXIS   =                    2 / number of array dimensions                     NAXIS1  =                 2797                                                  NAXIS2  =                 2797                                                  EXTEND  =                    T                                                  COMMENT   FITS (Flexible Image Transport System) format is defined in 'AstronomyCOMMENT   and Astrophysics', volume 376, page 359; bibcode: 2001A&A...376..359H CTYPE1  = 'RA---TAN'                                                            CTYPE2  = 'DEC--TAN'                                                            CRVAL1  =           53.1153485                                                  CRPIX1  =                1399.                                                  CRVAL2  =          -27.8015545                                                  CRPIX2  =                1399.                                                  CD1_1   =        8.6466189E-06                                                  CD1_2   =         1.227034E-07                                                  CD2_1   =        -1.219408E-07                                                  CD2_2   =        8.7006938E-06                                                  EN      =                                                                       END                                                                                                                                                                                                                                                                                                                                                                                                                                                                                                                                                                                                                                                                                                                                                                                                                                                                                                                                                                                                                                                                                                                                                                                                                                                                                                                                                                                                             \n"
     ]
    }
   ],
   "source": [
    "fname_img =  'F090W_8exp.fits'\n",
    "hdulist = fits.open(fname_img)\n",
    "header = hdulist[0].header\n",
    "print header\n",
    "nx = hdulist[0].header['NAXIS1']\n",
    "ny = hdulist[0].header['NAXIS2']"
   ]
  },
  {
   "cell_type": "code",
   "execution_count": 9,
   "metadata": {
    "collapsed": true
   },
   "outputs": [],
   "source": [
    "#convert pixel location of objectes extracted from image to ra and dec\n",
    "def world(filename, x, y):\n",
    "    hdu_list = fits.open(filename)\n",
    "    w = wcs.WCS(hdu_list[0].header)\n",
    "    hdu_list.close()\n",
    "    wrd = w.all_pix2world(x, y, 0) \n",
    "    ra = wrd[:][0]\n",
    "    dec = wrd[:][1]\n",
    "    return ra, dec"
   ]
  },
  {
   "cell_type": "code",
   "execution_count": 20,
   "metadata": {
    "collapsed": true
   },
   "outputs": [],
   "source": [
    "#imports fits and puts into numpy array\n",
    "def load_fits(filename):\n",
    "    hdu_list = fits.open(filename, do_not_scale_image_data=True)\n",
    "    tbdat = hdu_list[0].data\n",
    "    tbdat = tbdat.byteswap().newbyteorder()\n",
    "    return tbdat"
   ]
  },
  {
   "cell_type": "code",
   "execution_count": 10,
   "metadata": {
    "collapsed": true
   },
   "outputs": [],
   "source": [
    "m_AB_cat, ra_cat, dec_cat = read_three_arrays(\"25_bright_cat.txt\")"
   ]
  },
  {
   "cell_type": "code",
   "execution_count": 13,
   "metadata": {
    "collapsed": false
   },
   "outputs": [],
   "source": [
    "m_AB_mosaic, ra_mosaic, dec_mosaic, x_mosaic, y_mosaic = read_five_arrays(\"25_bright_mosaic.txt\")"
   ]
  },
  {
   "cell_type": "code",
   "execution_count": 15,
   "metadata": {
    "collapsed": true
   },
   "outputs": [],
   "source": [
    "ra, dec = world(fname_img, x_mosaic, y_mosaic)"
   ]
  },
  {
   "cell_type": "code",
   "execution_count": 16,
   "metadata": {
    "collapsed": false
   },
   "outputs": [
    {
     "name": "stdout",
     "output_type": "stream",
     "text": [
      "[ 53.11795846  53.10381878  53.10171086  53.10944839  53.11860113\n",
      "  53.10642005  53.12469597  53.11105813  53.12502191  53.12013941]\n"
     ]
    }
   ],
   "source": [
    "print ra[0:10]"
   ]
  },
  {
   "cell_type": "code",
   "execution_count": 17,
   "metadata": {
    "collapsed": false
   },
   "outputs": [
    {
     "name": "stdout",
     "output_type": "stream",
     "text": [
      "[ 53.11795846  53.10381878  53.10171086  53.10944839  53.11860113\n",
      "  53.10642005  53.12469597  53.11105813  53.12502191  53.12013941]\n"
     ]
    }
   ],
   "source": [
    "print ra_mosaic[0:10]"
   ]
  },
  {
   "cell_type": "code",
   "execution_count": 18,
   "metadata": {
    "collapsed": false
   },
   "outputs": [
    {
     "name": "stdout",
     "output_type": "stream",
     "text": [
      "[ 53.118019  53.103878  53.101707  53.124931  53.10648   53.121548\n",
      "  53.11866   53.124756  53.111118  53.125084]\n"
     ]
    }
   ],
   "source": [
    "print ra_cat[0:10]"
   ]
  },
  {
   "cell_type": "code",
   "execution_count": 21,
   "metadata": {
    "collapsed": false
   },
   "outputs": [],
   "source": [
    "tbdat = load_fits(fname_img)\n",
    "tbdat = np.nan_to_num(tbdat)\n",
    "for i in range(len(tbdat)):\n",
    "    for j in range(len(tbdat)):\n",
    "        if tbdat[i][j] == 0:\n",
    "               tbdat[i][j] = 0.00001"
   ]
  },
  {
   "cell_type": "code",
   "execution_count": 22,
   "metadata": {
    "collapsed": true
   },
   "outputs": [],
   "source": [
    "#convert pixel location of corners of image to ra and dec\n",
    "def world_area(filename, tbdat):\n",
    "    hdu_list = fits.open(filename)\n",
    "    w = wcs.WCS(hdu_list[0].header)\n",
    "    hdu_list.close()\n",
    "    world_min = w.all_pix2world(0,0,0)\n",
    "    world_max = w.all_pix2world(len(tbdat), len(tbdat), 0)\n",
    "    return world_min, world_max"
   ]
  },
  {
   "cell_type": "code",
   "execution_count": 23,
   "metadata": {
    "collapsed": false
   },
   "outputs": [
    {
     "name": "stdout",
     "output_type": "stream",
     "text": [
      "[array(53.10148765369058), array(-27.813546904606454)] [array(53.12921619852619), array(-27.78955213252892)]\n"
     ]
    }
   ],
   "source": [
    "world_min, world_max = world_area(fname_img, tbdat)\n",
    "print world_min, world_max"
   ]
  },
  {
   "cell_type": "code",
   "execution_count": 25,
   "metadata": {
    "collapsed": false
   },
   "outputs": [
    {
     "name": "stdout",
     "output_type": "stream",
     "text": [
      "53.1277855597 -27.7896864632\n",
      "53.1017108602 -27.811773562\n"
     ]
    }
   ],
   "source": [
    "print ra_mosaic.max(), dec_mosaic.max()\n",
    "print ra_mosaic.min(), dec_mosaic.min()"
   ]
  },
  {
   "cell_type": "code",
   "execution_count": 28,
   "metadata": {
    "collapsed": false
   },
   "outputs": [
    {
     "name": "stdout",
     "output_type": "stream",
     "text": [
      "[ 53.10148765  53.10187856  53.1288215   53.12920629] [-27.8135469  -27.7892198  -27.81388789 -27.78956071]\n"
     ]
    }
   ],
   "source": [
    "x_test = (0,0,nx-1,nx-1)\n",
    "y_test = (0,ny-1,0,ny-1)\n",
    "ra_test, dec_test = world(fname_img, x_test, y_test)\n",
    "print ra_test, dec_test"
   ]
  },
  {
   "cell_type": "code",
   "execution_count": null,
   "metadata": {
    "collapsed": true
   },
   "outputs": [],
   "source": []
  }
 ],
 "metadata": {
  "kernelspec": {
   "display_name": "Python 2",
   "language": "python",
   "name": "python2"
  },
  "language_info": {
   "codemirror_mode": {
    "name": "ipython",
    "version": 2
   },
   "file_extension": ".py",
   "mimetype": "text/x-python",
   "name": "python",
   "nbconvert_exporter": "python",
   "pygments_lexer": "ipython2",
   "version": "2.7.10"
  }
 },
 "nbformat": 4,
 "nbformat_minor": 0
}
